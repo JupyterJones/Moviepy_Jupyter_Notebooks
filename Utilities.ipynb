{
 "cells": [
  {
   "cell_type": "code",
   "execution_count": 11,
   "id": "8de7468a",
   "metadata": {},
   "outputs": [
    {
     "name": "stdout",
     "output_type": "stream",
     "text": [
      "/home/jack/Desktop/Moviepy_Jupyter_Notebooks\n"
     ]
    }
   ],
   "source": [
    "import os\n",
    "directory_path = os.getcwd()\n",
    "print(directory_path)\n"
   ]
  },
  {
   "cell_type": "code",
   "execution_count": 14,
   "id": "a9b90b6b",
   "metadata": {},
   "outputs": [
    {
     "name": "stdout",
     "output_type": "stream",
     "text": [
      "File: /home/jack/Desktop/Moviepy_Jupyter_Notebooks/.git/objects/4e/7c4197f9b47595130b5361a3ff00a2081e942e, Size: 45029319 bytes\n"
     ]
    }
   ],
   "source": [
    "import os\n",
    "\n",
    "def get_largest_files(directory, min_size=30 * 1024 * 1024):\n",
    "    largest_files = []\n",
    "\n",
    "    for root, dirs, files in os.walk(directory):\n",
    "        for filename in files:\n",
    "            filepath = os.path.join(root, filename)\n",
    "            size = os.path.getsize(filepath)\n",
    "            if size >= min_size:\n",
    "                largest_files.append((filepath, size))\n",
    "\n",
    "    largest_files.sort(key=lambda x: x[1], reverse=True)\n",
    "    return largest_files\n",
    "\n",
    "directory_path = os.getcwd()\n",
    "largest_files = get_largest_files(directory_path)\n",
    "\n",
    "for filepath, size in largest_files:\n",
    "    print(f\"File: {filepath}, Size: {size} bytes\")\n"
   ]
  },
  {
   "cell_type": "code",
   "execution_count": null,
   "id": "729a1987",
   "metadata": {},
   "outputs": [],
   "source": [
    "%%writefile .gitignore\n",
    "/.ipynb_checkpoints/\n",
    "/.git/"
   ]
  },
  {
   "cell_type": "code",
   "execution_count": null,
   "id": "9a6e659b",
   "metadata": {},
   "outputs": [],
   "source": [
    "!git add .\n",
    "!git commit -m \"added files to .\""
   ]
  }
 ],
 "metadata": {
  "kernelspec": {
   "display_name": "cloned-base",
   "language": "python",
   "name": "cloned-base"
  },
  "language_info": {
   "codemirror_mode": {
    "name": "ipython",
    "version": 3
   },
   "file_extension": ".py",
   "mimetype": "text/x-python",
   "name": "python",
   "nbconvert_exporter": "python",
   "pygments_lexer": "ipython3",
   "version": "3.9.12"
  }
 },
 "nbformat": 4,
 "nbformat_minor": 5
}
